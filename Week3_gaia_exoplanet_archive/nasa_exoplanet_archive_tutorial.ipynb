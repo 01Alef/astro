{
 "cells": [
  {
   "cell_type": "markdown",
   "metadata": {},
   "source": [
    "# NASA Exoplanet Archive Tutorial\n",
    "## Week 3, Intro-to-Astro 2020\n",
    "\n",
    "-1. What is the [Exoplanet Archive](https://exoplanetarchive.ipac.caltech.edu/)?\n",
    "\n",
    "In this tutorial, together we will: \n",
    "\n",
    "0. See an example of an exoplanet mass-radius diagram using data from the Exoplanet Archive\n",
    "\n",
    "1. Learn how to **download** data from the Exoplanet Archive ourselves\n",
    "\n",
    "2. **Visualize** the radius distribution of transiting exoplanets discovered by the *Kepler* space mission\n",
    "\n",
    "On your own you will\n",
    "\n",
    "3. Create an **orbital period vs radius** diagram for the transiting exoplanets from *Kepler*. Comment on any features that you see.\n",
    "\n",
    "4. Create one more plot of **any two parameters** that you'd like. Write a few sentences explaining why you plotted the parameters you chose. Comment on any features that appear.\n",
    "\n",
    "For your plots in 3. and 4. make sure you **label your axes with units** and **choose useful axis scales**!\n",
    "\n",
    "#### Updated June 2020, Joey Murphy"
   ]
  },
  {
   "cell_type": "code",
   "execution_count": null,
   "metadata": {},
   "outputs": [],
   "source": [
    "# It's always nice to have a cell at the top of your jupyter notebook for housing all of your import statements\n",
    "# and \"magic commands\" (lines that start with %), if any.\n",
    "\n",
    "# For bonus points: add a comment to your future self on why you're importing each module\n",
    "\n",
    "# File/directory handling\n",
    "import os \n",
    "\n",
    "# Data handling\n",
    "import pandas as pd\n",
    "pd.set_option('display.max_columns', None) # Display all of the columns of a DataFrame\n",
    "\n",
    "# For math\n",
    "import numpy as np\n",
    "\n",
    "# Plotting\n",
    "import matplotlib.pyplot as plt\n",
    "\n",
    "# \"Magic command\" to make the plots appear *inline* in the notebook\n",
    "%matplotlib inline"
   ]
  },
  {
   "cell_type": "markdown",
   "metadata": {},
   "source": [
    "# 0. Mass-radius diagram example"
   ]
  },
  {
   "cell_type": "code",
   "execution_count": null,
   "metadata": {},
   "outputs": [],
   "source": [
    "# Create a variable for the path to the file containing our example's data\n",
    "data_dir = 'data'\n",
    "data_fname = 'confirmed_example.csv'\n",
    "data_path = os.path.join(data_dir, data_fname) # os.path.join creates a valid path out of the directory and filename\n",
    "print(f'Data will be loaded from: {data_path}')"
   ]
  },
  {
   "cell_type": "code",
   "execution_count": null,
   "metadata": {},
   "outputs": [],
   "source": [
    "# Load the data that's stored in the .csv file from the cell above (csv == comma separated values).\n",
    "# Load this data into a Pandas DataFrame object using the Pandas function read_csv().\n",
    "\n",
    "# Use comment keyword argument in read_csv() to ignore the file header (more on this in a minute)\n",
    "example_data = pd.read_csv(data_path, comment='#')"
   ]
  },
  {
   "cell_type": "code",
   "execution_count": null,
   "metadata": {},
   "outputs": [],
   "source": [
    "... # What sort of data is contained in this pandas.DataFrame?"
   ]
  },
  {
   "cell_type": "code",
   "execution_count": null,
   "metadata": {},
   "outputs": [],
   "source": [
    "# What are the dimensions of this DataFrame?\n",
    "print(example_data.shape) # prints (# of rows, # of columns)"
   ]
  },
  {
   "cell_type": "markdown",
   "metadata": {},
   "source": [
    "What do all of these columns mean? Let's checkout the .csv file itself for more information!\n",
    "\n",
    "...\n",
    "\n",
    "So we saw that this table was generated from the Exoplanet Archive, and whoever generated it enforced some constraints: the mass and radius (in units of Jupiter mass and radius) must **not** be *null* i.e. we only want to download planets that have both a radius **and** a mass measurement.\n",
    "\n",
    "We also saw that there were a **ton** of columns that we didn't really mention in that table, and some are a little more useful than others. That's okay, for now let's just load *all* of the data into a Pandas DataFrame and then we can choose which columns we actually want to use."
   ]
  },
  {
   "cell_type": "code",
   "execution_count": null,
   "metadata": {},
   "outputs": [],
   "source": [
    "# Make a quick mass-radius diagram!\n",
    "\n",
    "# Plot the data with mass (in units of Jupiter masses) on the x-axis and radius \n",
    "# (in units of Jupiter radii) on the y-axis.\n",
    "\n",
    "# '.'   --> use small unconnected dots to plot the data points\n",
    "# alpha --> governs the transparency of each datapoint: 0 = completely transparent, 1 = completely opaque.\n",
    "# (alpha = 0.3 will let us see the density of the data points more easily)\n",
    "plt.plot(example_data['pl_bmassj'], example_data['pl_radj'], '.', alpha=0.3)\n",
    "\n",
    "# At the end, show the plot\n",
    "plt.show()"
   ]
  },
  {
   "cell_type": "markdown",
   "metadata": {},
   "source": [
    "The plot above is alright, but it seems like a lot of data is bunched up at low masses and the large range of the data makes it hard to see the finer structure... let's replot things with **log axes**. Let's also add **axis labels** so we actually know what is being plotted. As a bonus, we'll add some text to the plot to show **how many** exoplanets are being included."
   ]
  },
  {
   "cell_type": "code",
   "execution_count": null,
   "metadata": {},
   "outputs": [],
   "source": [
    "# Plot the data with mass (in units of Jupiter masses) on the x-axis\n",
    "plt.plot(example_data['pl_bmassj'], example_data['pl_radj'], '.', alpha=0.3)\n",
    "\n",
    "# Label your axes with units!\n",
    "plt.xlabel('Mass [M$_J$]', fontsize=14)   # You can use LaTex formatting to make your plots look more professional...\n",
    "plt.ylabel('Radius [R$_J$]', fontsize=14) # more on LaTex later in the summer! $_J$ creates a subscript J for Jupiter\n",
    "\n",
    "# Add some text to the plot so we know how many data points there are\n",
    "n_planets = len(example_data) # Number of planets being plotted\n",
    "\n",
    "# plt.text(x-coordinate, y-coordinate, text string, **kwargs) # x and y coordinates are in data units\n",
    "plt.text(1e-3, 1, f'N = {n_planets}', fontsize=14)\n",
    "\n",
    "# Set the x and y-axis scales to be log so we can see structure more easily\n",
    "...\n",
    "...\n",
    "\n",
    "# At the end, show the plot\n",
    "plt.show()"
   ]
  },
  {
   "cell_type": "markdown",
   "metadata": {},
   "source": [
    "# 1. Downloading a sample of exoplanets subject to constraints\n",
    "\n",
    "Now that we've plotted some of the data from the Exoplanet Archive, how do we download it ourselves? How did I get that complicated-looking .csv file with all of the data in the first place?\n",
    "\n",
    "Our mission: \n",
    "\n",
    "1. Go to the [Exoplanet Archive](https://exoplanetarchive.ipac.caltech.edu/) website and navigate to the **Confirmed Planets** table after clicking the **Data** tab at the top of the home page.\n",
    "2. This time, let's **add columns** so we have **planet mass and radius** in **units of Earth mass and Earth radius**\n",
    "3. Enter constraints into the query boxes at the top of the columns to get all of the planets **discovered by *Kepler*** via the **transit method**. Make sure to **exclude** any rows that might have a **null radius measurement** for one reason or another.\n",
    "4. **Download** the table as a **.csv** and **save** it to a **subdirectory** named **\"data\"**. Be sure to give your .csv file an informative name."
   ]
  },
  {
   "cell_type": "markdown",
   "metadata": {},
   "source": [
    "# 2. Visualize the radius distribution of transiting *Kepler* planets"
   ]
  },
  {
   "cell_type": "code",
   "execution_count": null,
   "metadata": {},
   "outputs": [],
   "source": [
    "# Like before, let's first create the path to our new .csv file\n",
    "data_fname = 'confirmed_kepler_transiting.csv'\n",
    "data_path = os.path.join(data_dir, data_fname)\n",
    "print(f'Data will be loaded from: {data_path}')"
   ]
  },
  {
   "cell_type": "code",
   "execution_count": null,
   "metadata": {},
   "outputs": [],
   "source": [
    "# Load the data into a Pandas DataFrame object\n",
    "kepler_data = pd.read_csv(data_path, comment='#')\n",
    "\n",
    "# How many rows and columns do we have this time?\n",
    "print(...) # Notice that we have 2 more columns than we did before"
   ]
  },
  {
   "cell_type": "markdown",
   "metadata": {},
   "source": [
    "Any idea why we have so many rows of planets this time than before? \n",
    "\n",
    "*Hint: We the confirmed_example.csv file was generated with a constraint on a different planet parameter that we didn't include here*"
   ]
  },
  {
   "cell_type": "code",
   "execution_count": null,
   "metadata": {},
   "outputs": [],
   "source": [
    "kepler_data.head()"
   ]
  },
  {
   "cell_type": "code",
   "execution_count": null,
   "metadata": {
    "scrolled": true
   },
   "outputs": [],
   "source": [
    "# Make a histogram of planet's in units of Earth radius\n",
    "plt.hist(kepler_data[...]) # Plot the histogram\n",
    "\n",
    "# Label the axes\n",
    "plt.xlabel('Radius [R$_\\oplus$]', fontsize=14)\n",
    "plt.ylabel('N', fontsize=14)\n",
    "\n",
    "# Show the plot\n",
    "plt.show()"
   ]
  },
  {
   "cell_type": "markdown",
   "metadata": {},
   "source": [
    "Well this histogram isn't very informative... What about using different **bins** for the histogram."
   ]
  },
  {
   "cell_type": "code",
   "execution_count": null,
   "metadata": {},
   "outputs": [],
   "source": [
    "# Create bins that are uniformly-sized in log space\n",
    "log_bins = np.logspace(np.log10(0.3), np.log10(20), 50)\n",
    "plt.hist(kepler_data['pl_rade'], bins = log_bins)\n",
    "\n",
    "# Log scale on the x-axis\n",
    "plt.xscale('log')\n",
    "\n",
    "# Label the axes\n",
    "plt.xlabel('Radius [R$_\\oplus$]', fontsize=14) # More LaTex. \\oplus gives us the symbol for Earth\n",
    "plt.ylabel('N', fontsize=14)\n",
    "\n",
    "# Show the plot\n",
    "plt.show()"
   ]
  },
  {
   "cell_type": "markdown",
   "metadata": {},
   "source": [
    "It looks like the distribution of planets has some sort of **bimodality** between about 1 and 2 Earth masses. Let's zoom in on that area by **restricting our x-axis limits**."
   ]
  },
  {
   "cell_type": "code",
   "execution_count": null,
   "metadata": {},
   "outputs": [],
   "source": [
    "plt.hist(kepler_data['pl_rade'], bins = log_bins) # Using the same bins as above\n",
    "\n",
    "# Let's zoom in on the distribution of planet radii in this region\n",
    "plt.xlim([1., 5]) # Units of Earth radius\n",
    "\n",
    "# Same plot housekeeping as above\n",
    "# -------------------------------\n",
    "# Log scale on the x-axis\n",
    "plt.xscale('log')\n",
    "\n",
    "# Label the axes\n",
    "plt.xlabel('Radius [R$_\\oplus$]', fontsize=14) # More LaTex. \\oplus gives us the symbol for Earth\n",
    "plt.ylabel('N', fontsize=14)\n",
    "\n",
    "# Show the plot\n",
    "plt.show()"
   ]
  },
  {
   "cell_type": "markdown",
   "metadata": {},
   "source": [
    "Are there **any notable features** in this distribution of planets by radius?"
   ]
  },
  {
   "cell_type": "markdown",
   "metadata": {},
   "source": [
    "# 3. Orbital period vs Radius for transiting *Kepler* planets\n",
    "\n",
    "Now it's your turn! Make a plot of the transiting planets discovered by *Kepler* with orbital period on the x-axis and planet radius (in units of Earth radius) on the y-axis. \n",
    "\n",
    "Be sure to label your axes with units! Refer to the header in the .csv file for more information. "
   ]
  },
  {
   "cell_type": "code",
   "execution_count": null,
   "metadata": {},
   "outputs": [],
   "source": []
  },
  {
   "cell_type": "markdown",
   "metadata": {
    "collapsed": true
   },
   "source": [
    "# 4. Make your own plot of whatever two parameters you want!\n",
    "\n",
    "Now make a plot visualizing the relationship (or lack thereof) of any two parameters that you want. Go back to the [Exoplanet Archive](https://exoplanetarchive.ipac.caltech.edu/) to input constraints (if any) in the Confirmed Table that are relevant to your parameters and download your new data. Spend some time looking at all of the columns available in the Exoplanet Archive data table to see what interests you. (We didn't even get a chance to make use of any of the stellar parameters!)\n",
    "\n",
    "Make sure you include axis labels and use appropriate axis scales so that you can see features of the data across a wide range of values. Why did you plot what you plotted? Do you notice any interesting features?"
   ]
  },
  {
   "cell_type": "code",
   "execution_count": null,
   "metadata": {},
   "outputs": [],
   "source": []
  }
 ],
 "metadata": {
  "kernelspec": {
   "display_name": "Python 3",
   "language": "python",
   "name": "python3"
  },
  "language_info": {
   "codemirror_mode": {
    "name": "ipython",
    "version": 3
   },
   "file_extension": ".py",
   "mimetype": "text/x-python",
   "name": "python",
   "nbconvert_exporter": "python",
   "pygments_lexer": "ipython3",
   "version": "3.7.3"
  }
 },
 "nbformat": 4,
 "nbformat_minor": 2
}
